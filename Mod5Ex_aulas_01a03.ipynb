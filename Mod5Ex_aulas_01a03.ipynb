{
 "cells": [
  {
   "cell_type": "markdown",
   "metadata": {},
   "source": [
    "# Módulo 5 Tarefa 1\n",
    "## Base de nascidos vivos do DataSUS\n",
    "O DataSUS disponibiliza diversos arquivos de dados com relação a seus segurados, conforme a [lei da transparência de informações públicas](https://www.sisgov.com/transparencia-acesso-informacao/#:~:text=A%20Lei%20da%20Transpar%C3%AAncia%20(LC,em%20um%20site%20na%20internet.). \n",
    "\n",
    "Essas informações podem ser obtidas pela internet [aqui](http://www2.datasus.gov.br/DATASUS/index.php?area=0901&item=1). Como o processo de obtenção desses arquivos foge um pouco do nosso escopo, deixamos o arquivo ```SINASC_RO_2019.csv``` já como vai ser encontrado no DataSUS. O dicionário de dados está no arquivo ```estrutura_sinasc_para_CD.pdf``` (o nome do arquivo tal qual no portal do DataSUS).\n",
    "\n",
    "### Nosso objetivo\n",
    "Queremos deixar uma base organizada para podermos estudar a relação entre partos com risco para o bebê e algumas condições como tempo de parto, consultas de pré-natal etc.\n",
    "\n",
    "#### Preparação da base\n",
    "1. Carregue a base 'SINASC_RO_2019.csv'. Conte o número de registros e o número de registros não duplicados da base. Dica: você aprendeu um método que remove duplicados, encadeie este método com um outro método que conta o número de linhas. **Há linhas duplicadas?**  \n",
    "\n",
    "2. Conte o número de valores *missing* por variável.  \n",
    "\n",
    "3. Ok, no item anterior você deve ter achado pouco prático ler a informação de tantas variáveis, muitas delas nem devem ser interesantes. Então crie uma seleção dessa base somente com as colunas que interessam. São elas:\n",
    "``` \n",
    "['LOCNASC', 'IDADEMAE', 'ESTCIVMAE', 'ESCMAE', 'QTDFILVIVO', \n",
    "    'GESTACAO', 'GRAVIDEZ', 'CONSULTAS', 'APGAR5'] \n",
    "```\n",
    "Refaça a contagem de valores *missings*.  \n",
    "\n",
    "4. Apgar é uma *nota* que o pediatra dá ao bebê quando nasce de acordo com algumas características associadas principalmente à respiração. Apgar 1 e Apgar 5 são as notas 1 e 5 minutos do nascimento. Apgar5 será a nossa variável de interesse principal. Então remova todos os registros com Apgar5 não preenchido. Para esta seleção, conte novamente o número de linhas e o número de *missings*.  \n",
    "\n",
    "5. observe que as variáveis ```['ESTCIVMAE', 'CONSULTAS']``` possuem o código ```9```, que significa *ignorado*. Vamos assumir que o não preenchido é o mesmo que o código ```9```.<br>\n",
    "6. Substitua os valores faltantes da quantitativa (```QTDFILVIVO```) por zero.  \n",
    "7. Das restantes, decida que valore te parece mais adequado (um 'não preenchido' ou um valor 'mais provável' como no item anterior) e preencha. Justifique. Lembre-se de que tratamento de dados é trabalho do cientista, e que estamos tomando decisões a todo o momento - não há necessariamente certo e errado aqui.  \n",
    "8. O Apgar possui uma classificação indicando se o bebê passou por asfixia:\n",
    "- Entre 8 e 10 está em uma faixa 'normal'. \n",
    "- Entre 6 e 7, significa que o recém-nascido passou por 'asfixia leve'. \n",
    "- Entre 4 e 5 significa 'asfixia moderada'.\n",
    "- Entre 0 e 3 significa 'asfixia severa'.  \n",
    "\n",
    "Crie uma categorização dessa variável com essa codificação e calcule as frequências dessa categorização.  \n",
    "<br>\n",
    "9. Renomeie as variáveis para que fiquem no *snake case*, ou seja, em letras minúsculas, com um *underscore* entre as palávras. Dica: repare que se você não quiser criar um *dataframe* novo, você vai precisar usar a opção ```inplace = True```."
   ]
  },
  {
   "cell_type": "code",
   "execution_count": 1,
   "metadata": {},
   "outputs": [
    {
     "name": "stderr",
     "output_type": "stream",
     "text": [
      "/tmp/ipykernel_4303/1862660934.py:11: DtypeWarning: Columns (34) have mixed types. Specify dtype option on import or set low_memory=False.\n",
      "  sinasc = pd.read_csv('/media/diegosantos/Windows/ebac/DNOPEN23.csv', sep=';')\n"
     ]
    },
    {
     "name": "stdout",
     "output_type": "stream",
     "text": [
      "(986593, 62)\n"
     ]
    },
    {
     "data": {
      "text/plain": [
       "(986593, 62)"
      ]
     },
     "execution_count": 1,
     "metadata": {},
     "output_type": "execute_result"
    }
   ],
   "source": [
    "import pandas as pd\n",
    "import requests\n",
    "import numpy as np\n",
    "\n",
    "pd.set_option('float_format', '{:.2f}'.format)\n",
    "pd.set_option('display.max_colwidth', None)\n",
    "# pd.set_option('display.precision', 2)\n",
    "#pd.reset_option('^display.', silent=True)\n",
    "\n",
    "# 1) seu código aqui\n",
    "sinasc = pd.read_csv('/media/diegosantos/Windows/ebac/DNOPEN23.csv', sep=';')\n",
    "print(sinasc.shape)\n",
    "sinasc.drop_duplicates().shape\n",
    "# Não há duplicados"
   ]
  },
  {
   "cell_type": "code",
   "execution_count": 2,
   "metadata": {},
   "outputs": [],
   "source": [
    "pd.options.display.max_rows = 100\n",
    "pd.options.display.max_columns = 100\n",
    "pd.options.display.max_colwidth = 100"
   ]
  },
  {
   "cell_type": "code",
   "execution_count": 3,
   "metadata": {},
   "outputs": [
    {
     "data": {
      "text/plain": [
       "contador           0\n",
       "ORIGEM             0\n",
       "CODESTAB        8086\n",
       "CODMUNNASC         0\n",
       "LOCNASC            0\n",
       "IDADEMAE           6\n",
       "ESTCIVMAE       4207\n",
       "ESCMAE          4526\n",
       "CODOCUPMAE     72346\n",
       "QTDFILVIVO     16154\n",
       "QTDFILMORT     23131\n",
       "CODMUNRES          0\n",
       "GESTACAO        9418\n",
       "GRAVIDEZ        1033\n",
       "PARTO            826\n",
       "CONSULTAS       1792\n",
       "DTNASC             0\n",
       "HORANASC         552\n",
       "SEXO               0\n",
       "APGAR1          9552\n",
       "APGAR5          9529\n",
       "RACACOR        18807\n",
       "PESO              81\n",
       "IDANOMAL        5374\n",
       "DTCADASTRO         0\n",
       "CODANOMAL     977945\n",
       "NUMEROLOTE       440\n",
       "VERSAOSIST       444\n",
       "DTRECEBIM        439\n",
       "DIFDATA            0\n",
       "OPORT_DN           0\n",
       "DTRECORIGA         0\n",
       "NATURALMAE     17475\n",
       "CODMUNNATU     17475\n",
       "CODUFNATU      17475\n",
       "ESCMAE2010     10600\n",
       "SERIESCMAE    348284\n",
       "DTNASCMAE       7460\n",
       "RACACORMAE     23132\n",
       "QTDGESTANT     18964\n",
       "QTDPARTNOR     23472\n",
       "QTDPARTCES     25702\n",
       "IDADEPAI      648576\n",
       "DTULTMENST    520971\n",
       "SEMAGESTAC      9498\n",
       "TPMETESTIM      9498\n",
       "CONSPRENAT     14575\n",
       "MESPRENAT      20485\n",
       "TPAPRESENT      8481\n",
       "STTRABPART     11556\n",
       "STCESPARTO     13338\n",
       "TPNASCASSI      7407\n",
       "TPFUNCRESP     26619\n",
       "TPDOCRESP       6159\n",
       "DTDECLARAC     11081\n",
       "ESCMAEAGR1     10600\n",
       "STDNEPIDEM         1\n",
       "STDNNOVA           0\n",
       "CODPAISRES         7\n",
       "TPROBSON           0\n",
       "PARIDADE           0\n",
       "KOTELCHUCK         0\n",
       "dtype: int64"
      ]
     },
     "execution_count": 3,
     "metadata": {},
     "output_type": "execute_result"
    }
   ],
   "source": [
    "# 2) seu código aqui\n",
    "# sinasc.describe()\n",
    "sinasc.isna().sum()"
   ]
  },
  {
   "cell_type": "code",
   "execution_count": 4,
   "metadata": {},
   "outputs": [
    {
     "data": {
      "text/plain": [
       "LOCNASC           0\n",
       "IDADEMAE          6\n",
       "ESTCIVMAE      4207\n",
       "QTDFILVIVO    16154\n",
       "GESTACAO       9418\n",
       "GRAVIDEZ       1033\n",
       "CONSULTAS      1792\n",
       "APGAR5         9529\n",
       "dtype: int64"
      ]
     },
     "execution_count": 4,
     "metadata": {},
     "output_type": "execute_result"
    }
   ],
   "source": [
    "# 3) seu código aqui\n",
    "sinasc_interesse = sinasc[['LOCNASC','IDADEMAE','ESTCIVMAE','QTDFILVIVO','GESTACAO','GRAVIDEZ','CONSULTAS','APGAR5']]\n",
    "sinasc_interesse.isna().sum()"
   ]
  },
  {
   "cell_type": "code",
   "execution_count": 5,
   "metadata": {},
   "outputs": [
    {
     "name": "stdout",
     "output_type": "stream",
     "text": [
      "(986593,)\n"
     ]
    },
    {
     "name": "stderr",
     "output_type": "stream",
     "text": [
      "/tmp/ipykernel_4303/2422808992.py:3: SettingWithCopyWarning: \n",
      "A value is trying to be set on a copy of a slice from a DataFrame\n",
      "\n",
      "See the caveats in the documentation: https://pandas.pydata.org/pandas-docs/stable/user_guide/indexing.html#returning-a-view-versus-a-copy\n",
      "  sinasc_interesse.dropna(subset=['APGAR5'], inplace=True)\n"
     ]
    }
   ],
   "source": [
    "# 4) seu código aqui\n",
    "print(sinasc_interesse.APGAR5.shape)\n",
    "sinasc_interesse.dropna(subset=['APGAR5'], inplace=True)"
   ]
  },
  {
   "cell_type": "code",
   "execution_count": 6,
   "metadata": {},
   "outputs": [
    {
     "name": "stdout",
     "output_type": "stream",
     "text": [
      "[ 2.  1.  5.  3.  4.  9. nan]\n",
      "[ 4.  3.  2.  1.  9. nan]\n"
     ]
    },
    {
     "name": "stderr",
     "output_type": "stream",
     "text": [
      "/tmp/ipykernel_4303/365954909.py:4: SettingWithCopyWarning: \n",
      "A value is trying to be set on a copy of a slice from a DataFrame\n",
      "\n",
      "See the caveats in the documentation: https://pandas.pydata.org/pandas-docs/stable/user_guide/indexing.html#returning-a-view-versus-a-copy\n",
      "  sinasc_interesse.ESTCIVMAE.replace(9, np.nan, inplace=True)\n",
      "/tmp/ipykernel_4303/365954909.py:5: SettingWithCopyWarning: \n",
      "A value is trying to be set on a copy of a slice from a DataFrame\n",
      "\n",
      "See the caveats in the documentation: https://pandas.pydata.org/pandas-docs/stable/user_guide/indexing.html#returning-a-view-versus-a-copy\n",
      "  sinasc_interesse.CONSULTAS.replace(9, np.nan, inplace=True)\n",
      "/tmp/ipykernel_4303/365954909.py:6: SettingWithCopyWarning: \n",
      "A value is trying to be set on a copy of a slice from a DataFrame\n",
      "\n",
      "See the caveats in the documentation: https://pandas.pydata.org/pandas-docs/stable/user_guide/indexing.html#returning-a-view-versus-a-copy\n",
      "  sinasc_interesse.dropna(subset=['ESTCIVMAE', 'CONSULTAS'], inplace=True)\n"
     ]
    }
   ],
   "source": [
    "# 5) seu código aqui\n",
    "print(sinasc_interesse.ESTCIVMAE.unique())\n",
    "print(sinasc_interesse.CONSULTAS.unique())\n",
    "sinasc_interesse.ESTCIVMAE.replace(9, np.nan, inplace=True)\n",
    "sinasc_interesse.CONSULTAS.replace(9, np.nan, inplace=True)\n",
    "sinasc_interesse.dropna(subset=['ESTCIVMAE', 'CONSULTAS'], inplace=True)"
   ]
  },
  {
   "cell_type": "code",
   "execution_count": 7,
   "metadata": {},
   "outputs": [
    {
     "name": "stdout",
     "output_type": "stream",
     "text": [
      "15353\n"
     ]
    },
    {
     "name": "stderr",
     "output_type": "stream",
     "text": [
      "/tmp/ipykernel_4303/1972283121.py:3: SettingWithCopyWarning: \n",
      "A value is trying to be set on a copy of a slice from a DataFrame\n",
      "\n",
      "See the caveats in the documentation: https://pandas.pydata.org/pandas-docs/stable/user_guide/indexing.html#returning-a-view-versus-a-copy\n",
      "  sinasc_interesse.QTDFILVIVO.fillna(0, inplace=True)\n"
     ]
    }
   ],
   "source": [
    "# 6) Seu código aqui\n",
    "print(sinasc_interesse.QTDFILVIVO.isna().sum())\n",
    "sinasc_interesse.QTDFILVIVO.fillna(0, inplace=True)"
   ]
  },
  {
   "cell_type": "code",
   "execution_count": 8,
   "metadata": {},
   "outputs": [
    {
     "name": "stdout",
     "output_type": "stream",
     "text": [
      "LOCNASC          0\n",
      "IDADEMAE         0\n",
      "ESTCIVMAE        0\n",
      "QTDFILVIVO       0\n",
      "GESTACAO      8362\n",
      "GRAVIDEZ       935\n",
      "CONSULTAS        0\n",
      "APGAR5           0\n",
      "dtype: int64\n"
     ]
    },
    {
     "name": "stderr",
     "output_type": "stream",
     "text": [
      "/tmp/ipykernel_4303/846963560.py:8: SettingWithCopyWarning: \n",
      "A value is trying to be set on a copy of a slice from a DataFrame\n",
      "\n",
      "See the caveats in the documentation: https://pandas.pydata.org/pandas-docs/stable/user_guide/indexing.html#returning-a-view-versus-a-copy\n",
      "  sinasc_interesse.GESTACAO.replace(9, np.nan, inplace=True)\n",
      "/tmp/ipykernel_4303/846963560.py:10: SettingWithCopyWarning: \n",
      "A value is trying to be set on a copy of a slice from a DataFrame\n",
      "\n",
      "See the caveats in the documentation: https://pandas.pydata.org/pandas-docs/stable/user_guide/indexing.html#returning-a-view-versus-a-copy\n",
      "  sinasc_interesse.GRAVIDEZ.replace(9, np.nan, inplace=True)\n",
      "/tmp/ipykernel_4303/846963560.py:11: SettingWithCopyWarning: \n",
      "A value is trying to be set on a copy of a slice from a DataFrame\n",
      "\n",
      "See the caveats in the documentation: https://pandas.pydata.org/pandas-docs/stable/user_guide/indexing.html#returning-a-view-versus-a-copy\n",
      "  sinasc_interesse.dropna(subset=['GESTACAO', 'GRAVIDEZ'], inplace=True)\n"
     ]
    }
   ],
   "source": [
    "# 7) seu código aqui\n",
    "print(sinasc_interesse.isna().sum())\n",
    "# Tendo em vista que esse dado se refere a uma variável categórica e não numérica acho interessante num primeiro\n",
    "# momento remover as linhas que são nulas, e tentar rodar um modelo sobre os dados caso a acertividade do mesmo \n",
    "# seja baixa pode-se optar por buscar outra formas de preencher esses valores faltantes, tais como verificar qual\n",
    "# valor apareceu mais nessa coluna e preencher com ele.\n",
    "sinasc_interesse.GESTACAO.value_counts()\n",
    "sinasc_interesse.GESTACAO.replace(9, np.nan, inplace=True)\n",
    "sinasc_interesse.GRAVIDEZ.value_counts()\n",
    "sinasc_interesse.GRAVIDEZ.replace(9, np.nan, inplace=True)\n",
    "sinasc_interesse.dropna(subset=['GESTACAO', 'GRAVIDEZ'], inplace=True)"
   ]
  },
  {
   "cell_type": "code",
   "execution_count": 15,
   "metadata": {},
   "outputs": [
    {
     "name": "stderr",
     "output_type": "stream",
     "text": [
      "/tmp/ipykernel_4303/3656441229.py:2: SettingWithCopyWarning: \n",
      "A value is trying to be set on a copy of a slice from a DataFrame.\n",
      "Try using .loc[row_indexer,col_indexer] = value instead\n",
      "\n",
      "See the caveats in the documentation: https://pandas.pydata.org/pandas-docs/stable/user_guide/indexing.html#returning-a-view-versus-a-copy\n",
      "  sinasc_interesse['CAT_APGAR5'] = np.where(sinasc_interesse.APGAR5 > 7, 'normal',\n"
     ]
    },
    {
     "data": {
      "text/plain": [
       "CAT_APGAR5\n",
       "normal              936110\n",
       "asfixia leve         13996\n",
       "asfixia severa        3336\n",
       "asfixia moderada      3006\n",
       "Name: count, dtype: int64"
      ]
     },
     "execution_count": 15,
     "metadata": {},
     "output_type": "execute_result"
    }
   ],
   "source": [
    "# 8) seu código aqui\n",
    "sinasc_interesse['CAT_APGAR5'] = np.where(sinasc_interesse.APGAR5 > 7, 'normal',\n",
    "                                         np.where(sinasc_interesse.APGAR5 > 5, 'asfixia leve',\n",
    "                                                 np.where(sinasc_interesse.APGAR5 > 3, 'asfixia moderada', 'asfixia severa')))\n",
    "\n",
    "sinasc_interesse.CAT_APGAR5.value_counts()"
   ]
  },
  {
   "cell_type": "code",
   "execution_count": 16,
   "metadata": {},
   "outputs": [],
   "source": [
    "# 9) seu código aqui\n",
    "sinasc_interesse.columns = ['loc_nasc','idade_mae','est_civ_mae','qtd_fil_vivo','gestacao','gravidez','consultas','apgar5','cat_apgar5']"
   ]
  },
  {
   "cell_type": "code",
   "execution_count": 17,
   "metadata": {},
   "outputs": [
    {
     "data": {
      "text/html": [
       "<div>\n",
       "<style scoped>\n",
       "    .dataframe tbody tr th:only-of-type {\n",
       "        vertical-align: middle;\n",
       "    }\n",
       "\n",
       "    .dataframe tbody tr th {\n",
       "        vertical-align: top;\n",
       "    }\n",
       "\n",
       "    .dataframe thead th {\n",
       "        text-align: right;\n",
       "    }\n",
       "</style>\n",
       "<table border=\"1\" class=\"dataframe\">\n",
       "  <thead>\n",
       "    <tr style=\"text-align: right;\">\n",
       "      <th></th>\n",
       "      <th>loc_nasc</th>\n",
       "      <th>idade_mae</th>\n",
       "      <th>est_civ_mae</th>\n",
       "      <th>qtd_fil_vivo</th>\n",
       "      <th>gestacao</th>\n",
       "      <th>gravidez</th>\n",
       "      <th>consultas</th>\n",
       "      <th>apgar5</th>\n",
       "      <th>cat_apgar5</th>\n",
       "    </tr>\n",
       "  </thead>\n",
       "  <tbody>\n",
       "    <tr>\n",
       "      <th>0</th>\n",
       "      <td>1</td>\n",
       "      <td>32.00</td>\n",
       "      <td>2.00</td>\n",
       "      <td>3.00</td>\n",
       "      <td>5.00</td>\n",
       "      <td>1.00</td>\n",
       "      <td>4.00</td>\n",
       "      <td>9.00</td>\n",
       "      <td>normal</td>\n",
       "    </tr>\n",
       "    <tr>\n",
       "      <th>1</th>\n",
       "      <td>1</td>\n",
       "      <td>18.00</td>\n",
       "      <td>1.00</td>\n",
       "      <td>0.00</td>\n",
       "      <td>4.00</td>\n",
       "      <td>1.00</td>\n",
       "      <td>4.00</td>\n",
       "      <td>9.00</td>\n",
       "      <td>normal</td>\n",
       "    </tr>\n",
       "    <tr>\n",
       "      <th>2</th>\n",
       "      <td>1</td>\n",
       "      <td>15.00</td>\n",
       "      <td>5.00</td>\n",
       "      <td>0.00</td>\n",
       "      <td>3.00</td>\n",
       "      <td>1.00</td>\n",
       "      <td>3.00</td>\n",
       "      <td>4.00</td>\n",
       "      <td>asfixia moderada</td>\n",
       "    </tr>\n",
       "    <tr>\n",
       "      <th>3</th>\n",
       "      <td>1</td>\n",
       "      <td>32.00</td>\n",
       "      <td>2.00</td>\n",
       "      <td>1.00</td>\n",
       "      <td>5.00</td>\n",
       "      <td>1.00</td>\n",
       "      <td>4.00</td>\n",
       "      <td>9.00</td>\n",
       "      <td>normal</td>\n",
       "    </tr>\n",
       "    <tr>\n",
       "      <th>4</th>\n",
       "      <td>1</td>\n",
       "      <td>27.00</td>\n",
       "      <td>1.00</td>\n",
       "      <td>0.00</td>\n",
       "      <td>5.00</td>\n",
       "      <td>1.00</td>\n",
       "      <td>4.00</td>\n",
       "      <td>9.00</td>\n",
       "      <td>normal</td>\n",
       "    </tr>\n",
       "    <tr>\n",
       "      <th>...</th>\n",
       "      <td>...</td>\n",
       "      <td>...</td>\n",
       "      <td>...</td>\n",
       "      <td>...</td>\n",
       "      <td>...</td>\n",
       "      <td>...</td>\n",
       "      <td>...</td>\n",
       "      <td>...</td>\n",
       "      <td>...</td>\n",
       "    </tr>\n",
       "    <tr>\n",
       "      <th>986588</th>\n",
       "      <td>1</td>\n",
       "      <td>21.00</td>\n",
       "      <td>1.00</td>\n",
       "      <td>0.00</td>\n",
       "      <td>4.00</td>\n",
       "      <td>1.00</td>\n",
       "      <td>3.00</td>\n",
       "      <td>7.00</td>\n",
       "      <td>asfixia leve</td>\n",
       "    </tr>\n",
       "    <tr>\n",
       "      <th>986589</th>\n",
       "      <td>1</td>\n",
       "      <td>34.00</td>\n",
       "      <td>1.00</td>\n",
       "      <td>2.00</td>\n",
       "      <td>5.00</td>\n",
       "      <td>1.00</td>\n",
       "      <td>4.00</td>\n",
       "      <td>9.00</td>\n",
       "      <td>normal</td>\n",
       "    </tr>\n",
       "    <tr>\n",
       "      <th>986590</th>\n",
       "      <td>1</td>\n",
       "      <td>32.00</td>\n",
       "      <td>1.00</td>\n",
       "      <td>0.00</td>\n",
       "      <td>5.00</td>\n",
       "      <td>1.00</td>\n",
       "      <td>4.00</td>\n",
       "      <td>9.00</td>\n",
       "      <td>normal</td>\n",
       "    </tr>\n",
       "    <tr>\n",
       "      <th>986591</th>\n",
       "      <td>1</td>\n",
       "      <td>33.00</td>\n",
       "      <td>1.00</td>\n",
       "      <td>2.00</td>\n",
       "      <td>4.00</td>\n",
       "      <td>1.00</td>\n",
       "      <td>4.00</td>\n",
       "      <td>7.00</td>\n",
       "      <td>asfixia leve</td>\n",
       "    </tr>\n",
       "    <tr>\n",
       "      <th>986592</th>\n",
       "      <td>1</td>\n",
       "      <td>15.00</td>\n",
       "      <td>1.00</td>\n",
       "      <td>0.00</td>\n",
       "      <td>5.00</td>\n",
       "      <td>1.00</td>\n",
       "      <td>3.00</td>\n",
       "      <td>9.00</td>\n",
       "      <td>normal</td>\n",
       "    </tr>\n",
       "  </tbody>\n",
       "</table>\n",
       "<p>956448 rows × 9 columns</p>\n",
       "</div>"
      ],
      "text/plain": [
       "        loc_nasc  idade_mae  est_civ_mae  qtd_fil_vivo  gestacao  gravidez   \n",
       "0              1      32.00         2.00          3.00      5.00      1.00  \\\n",
       "1              1      18.00         1.00          0.00      4.00      1.00   \n",
       "2              1      15.00         5.00          0.00      3.00      1.00   \n",
       "3              1      32.00         2.00          1.00      5.00      1.00   \n",
       "4              1      27.00         1.00          0.00      5.00      1.00   \n",
       "...          ...        ...          ...           ...       ...       ...   \n",
       "986588         1      21.00         1.00          0.00      4.00      1.00   \n",
       "986589         1      34.00         1.00          2.00      5.00      1.00   \n",
       "986590         1      32.00         1.00          0.00      5.00      1.00   \n",
       "986591         1      33.00         1.00          2.00      4.00      1.00   \n",
       "986592         1      15.00         1.00          0.00      5.00      1.00   \n",
       "\n",
       "        consultas  apgar5        cat_apgar5  \n",
       "0            4.00    9.00            normal  \n",
       "1            4.00    9.00            normal  \n",
       "2            3.00    4.00  asfixia moderada  \n",
       "3            4.00    9.00            normal  \n",
       "4            4.00    9.00            normal  \n",
       "...           ...     ...               ...  \n",
       "986588       3.00    7.00      asfixia leve  \n",
       "986589       4.00    9.00            normal  \n",
       "986590       4.00    9.00            normal  \n",
       "986591       4.00    7.00      asfixia leve  \n",
       "986592       3.00    9.00            normal  \n",
       "\n",
       "[956448 rows x 9 columns]"
      ]
     },
     "execution_count": 17,
     "metadata": {},
     "output_type": "execute_result"
    }
   ],
   "source": [
    "sinasc_interesse"
   ]
  }
 ],
 "metadata": {
  "kernelspec": {
   "display_name": "Python 3 (ipykernel)",
   "language": "python",
   "name": "python3"
  },
  "language_info": {
   "codemirror_mode": {
    "name": "ipython",
    "version": 3
   },
   "file_extension": ".py",
   "mimetype": "text/x-python",
   "name": "python",
   "nbconvert_exporter": "python",
   "pygments_lexer": "ipython3",
   "version": "3.11.4"
  }
 },
 "nbformat": 4,
 "nbformat_minor": 4
}
