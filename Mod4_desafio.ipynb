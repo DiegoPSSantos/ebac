{
  "nbformat": 4,
  "nbformat_minor": 0,
  "metadata": {
    "colab": {
      "provenance": []
    },
    "kernelspec": {
      "name": "python3",
      "display_name": "Python 3"
    },
    "language_info": {
      "name": "python"
    }
  },
  "cells": [
    {
      "cell_type": "markdown",
      "source": [
        "# Desafio do módulo 4"
      ],
      "metadata": {
        "id": "0LuIUVFvlEnT"
      }
    },
    {
      "cell_type": "markdown",
      "source": [
        "### Construir um script para calcular o valor total investido por um colecionador de CDs e o valor médio gasto em cada um deles."
      ],
      "metadata": {
        "id": "HHviiZq1lJMZ"
      }
    },
    {
      "cell_type": "code",
      "source": [
        "def adicionarCDColecao(colecao, cd, vlr):\n",
        "    colecao[cd] = vlr\n",
        "    return colecao"
      ],
      "metadata": {
        "id": "T0HsesWklYkT"
      },
      "execution_count": 3,
      "outputs": []
    },
    {
      "cell_type": "code",
      "source": [
        "def calcularValorTotal(colecao):\n",
        "    total = 0\n",
        "    for vlr in colecao.values():\n",
        "        total += vlr\n",
        "    return total"
      ],
      "metadata": {
        "id": "yNx_mvJslzfd"
      },
      "execution_count": 14,
      "outputs": []
    },
    {
      "cell_type": "code",
      "source": [
        "def calcularPrecoMedioColecao(colecao):\n",
        "    total = calcularValorTotal(colecao)\n",
        "    media = total/len(colecao)\n",
        "    print(f'Sua coleção tem {len(colecao)} CDs e está avaliada em R$ {round(total,2)}')\n",
        "    print(f'O valor médio de cada CD é R$ {round(media,2)}')"
      ],
      "metadata": {
        "id": "K-nt8PRsnH9U"
      },
      "execution_count": 18,
      "outputs": []
    },
    {
      "cell_type": "code",
      "source": [
        "colecao = dict()"
      ],
      "metadata": {
        "id": "wcNMhTrUo5Fe"
      },
      "execution_count": 8,
      "outputs": []
    },
    {
      "cell_type": "code",
      "source": [
        "cd = input('Informe o nome do CD:')\n",
        "vlr = float(input('Informe o valor do CD em R$:'))\n",
        "colecao = adicionarCDColecao(colecao, cd, vlr)"
      ],
      "metadata": {
        "colab": {
          "base_uri": "https://localhost:8080/"
        },
        "id": "nn8u-_LPnwDP",
        "outputId": "c3c8aa4d-583d-49ca-d3f2-4485dd38c176"
      },
      "execution_count": 12,
      "outputs": [
        {
          "name": "stdout",
          "output_type": "stream",
          "text": [
            "Informe o nome do CD:Soundtrack - Missão Impossível IV\n",
            "Informe o valor do CD em R$:49.25\n"
          ]
        }
      ]
    },
    {
      "cell_type": "code",
      "source": [
        "calcularPrecoMedioColecao(colecao)"
      ],
      "metadata": {
        "colab": {
          "base_uri": "https://localhost:8080/"
        },
        "id": "PDjYrHrBpTuf",
        "outputId": "d6a98b31-3ecd-4153-a899-4ceea4d7b00a"
      },
      "execution_count": 19,
      "outputs": [
        {
          "output_type": "stream",
          "name": "stdout",
          "text": [
            "Sua coleção tem 4 CDs e está avaliada em R$ 167.77\n",
            "O valor médio de cada CD é R$ 41.94\n"
          ]
        }
      ]
    }
  ]
}